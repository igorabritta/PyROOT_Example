{
 "cells": [
  {
   "cell_type": "markdown",
   "metadata": {},
   "source": [
    "## Loading ROOT libraries"
   ]
  },
  {
   "cell_type": "code",
   "execution_count": 2,
   "metadata": {},
   "outputs": [],
   "source": [
    "from ROOT import TCanvas, TPad, TFile, TPaveLabel, TPaveText\n",
    "from ROOT import gROOT\n",
    "import root_numpy\n",
    "import ROOT\n",
    "import numpy as np\n",
    "import matplotlib.pyplot as plt\n",
    "from matplotlib.ticker import (LinearLocator, MultipleLocator, FormatStrFormatter,AutoMinorLocator)\n",
    "%jsroot on\n",
    "#ROOT.gStyle.SetOptStat(0)\n",
    "#ROOT.gStyle.SetOptStat(1111111)"
   ]
  },
  {
   "cell_type": "code",
   "execution_count": 6,
   "metadata": {},
   "outputs": [],
   "source": [
    "run = [2163]\n",
    "tip = \"3D\"\n",
    "\n",
    "filename = \"../reco_files/6040/new_reco_run%05d_%s.root\" % (run[0],tip)\n",
    "tf = ROOT.TFile(filename)\n",
    "tree = tf.Get('Events')"
   ]
  },
  {
   "cell_type": "code",
   "execution_count": 34,
   "metadata": {},
   "outputs": [],
   "source": [
    "## Plot parameters\n",
    "caption = 0\n",
    "logy = 0\n",
    "logx = 0\n",
    "stats = 1\n",
    "colors = [ROOT.kGray+1]"
   ]
  },
  {
   "cell_type": "code",
   "execution_count": 45,
   "metadata": {
    "scrolled": false
   },
   "outputs": [
    {
     "name": "stdout",
     "output_type": "stream",
     "text": [
      " FCN=117.858 FROM MIGRAD    STATUS=CONVERGED    1269 CALLS        1270 TOTAL\n",
      "                     EDM=7.1464e-07    STRATEGY= 1      ERROR MATRIX ACCURATE \n",
      "  EXT PARAMETER                                   STEP         FIRST   \n",
      "  NO.   NAME      VALUE            ERROR          SIZE      DERIVATIVE \n",
      "   1  p0           4.63948e+04   1.93092e+03   9.69421e+00   1.15763e-07\n",
      "   2  p1           1.84812e-02   1.55217e-03   5.64275e-07  -5.08601e+00\n",
      "   3  p2           5.69931e+01   4.83702e+00   1.75755e-03   1.46470e-03\n",
      "   4  p3           2.63094e+02   1.24583e+02   1.04017e-01  -2.28093e-05\n",
      "   5  p4           2.99864e+02   5.19746e+01   4.37435e-02  -4.38718e-05\n"
     ]
    },
    {
     "name": "stderr",
     "output_type": "stream",
     "text": [
      "Warning in <TFile::Append>: Replacing existing TH1: Integral (Potential memory leak).\n"
     ]
    },
    {
     "data": {
      "text/html": [
       "\n",
       "<div id=\"root_plot_14\"\n",
       "     style=\"width: 796px; height: 572px\">\n",
       "</div>\n",
       "\n",
       "<script>\n",
       " requirejs.config({\n",
       "     paths: {\n",
       "       'JSRootCore' : 'https://root.cern.ch/js/notebook//scripts/JSRootCore',\n",
       "     }\n",
       "   });\n",
       " require(['JSRootCore'],\n",
       "     function(Core) {\n",
       "       var obj = Core.JSONR_unref({\"_typename\":\"TCanvas\",\"fUniqueID\":0,\"fBits\":53673992,\"fLineColor\":1,\"fLineStyle\":1,\"fLineWidth\":1,\"fFillColor\":0,\"fFillStyle\":1001,\"fLeftMargin\":0.1,\"fRightMargin\":0.1,\"fBottomMargin\":0.1,\"fTopMargin\":0.1,\"fXfile\":2,\"fYfile\":2,\"fAfile\":1,\"fXstat\":0.99,\"fYstat\":0.99,\"fAstat\":2,\"fFrameFillColor\":0,\"fFrameLineColor\":1,\"fFrameFillStyle\":1001,\"fFrameLineStyle\":1,\"fFrameLineWidth\":1,\"fFrameBorderSize\":1,\"fFrameBorderMode\":0,\"fX1\":-586.875041862952,\"fY1\":-15.7500011734665,\"fX2\":5031.87504186295,\"fY2\":141.750001173467,\"fXtoAbsPixelk\":83.1417677062148,\"fXtoPixelk\":83.1417677062148,\"fXtoPixel\":0.141668518467395,\"fYtoAbsPixelk\":514.800046590614,\"fYtoPixelk\":514.800046590614,\"fYtoPixel\":-3.6317459776288,\"fUtoAbsPixelk\":5e-5,\"fUtoPixelk\":5e-5,\"fUtoPixel\":796,\"fVtoAbsPixelk\":572.00005,\"fVtoPixelk\":572,\"fVtoPixel\":-572,\"fAbsPixeltoXk\":-586.875041862952,\"fPixeltoXk\":-586.875041862952,\"fPixeltoX\":7.05873126096219,\"fAbsPixeltoYk\":141.750001173467,\"fPixeltoYk\":-15.7500011734665,\"fPixeltoY\":-0.27534965445268,\"fXlowNDC\":0,\"fYlowNDC\":0,\"fXUpNDC\":0,\"fYUpNDC\":0,\"fWNDC\":1,\"fHNDC\":1,\"fAbsXlowNDC\":0,\"fAbsYlowNDC\":0,\"fAbsWNDC\":1,\"fAbsHNDC\":1,\"fUxmin\":-25,\"fUymin\":0,\"fUxmax\":4470,\"fUymax\":126,\"fTheta\":30,\"fPhi\":30,\"fAspectRatio\":0,\"fNumber\":0,\"fTickx\":0,\"fTicky\":0,\"fLogx\":0,\"fLogy\":0,\"fLogz\":0,\"fPadPaint\":0,\"fCrosshair\":0,\"fCrosshairPos\":0,\"fBorderSize\":2,\"fBorderMode\":0,\"fModified\":false,\"fGridx\":true,\"fGridy\":true,\"fAbsCoord\":false,\"fEditable\":true,\"fFixedAspectRatio\":false,\"fPrimitives\":{\"_typename\":\"TList\",\"name\":\"TList\",\"arr\":[{\"_typename\":\"TFrame\",\"fUniqueID\":0,\"fBits\":50331656,\"fLineColor\":1,\"fLineStyle\":1,\"fLineWidth\":1,\"fFillColor\":0,\"fFillStyle\":1001,\"fX1\":-25,\"fY1\":0,\"fX2\":4470,\"fY2\":126,\"fBorderSize\":1,\"fBorderMode\":0},{\"_typename\":\"TH1F\",\"fUniqueID\":0,\"fBits\":50332168,\"fName\":\"Integral\",\"fTitle\":\"\",\"fLineColor\":921,\"fLineStyle\":1,\"fLineWidth\":1,\"fFillColor\":920,\"fFillStyle\":1001,\"fMarkerColor\":921,\"fMarkerStyle\":20,\"fMarkerSize\":0.5,\"fNcells\":82,\"fXaxis\":{\"_typename\":\"TAxis\",\"fUniqueID\":0,\"fBits\":50333704,\"fName\":\"xaxis\",\"fTitle\":\"Cluster Light [photons]\",\"fNdivisions\":510,\"fAxisColor\":1,\"fLabelColor\":1,\"fLabelFont\":42,\"fLabelOffset\":0.005,\"fLabelSize\":0.035,\"fTickLength\":0.03,\"fTitleOffset\":1,\"fTitleSize\":0.035,\"fTitleColor\":1,\"fTitleFont\":42,\"fNbins\":80,\"fXmin\":-800,\"fXmax\":5400,\"fXbins\":[],\"fFirst\":11,\"fLast\":68,\"fBits2\":0,\"fTimeDisplay\":false,\"fTimeFormat\":\"\",\"fLabels\":null,\"fModLabs\":null},\"fYaxis\":{\"_typename\":\"TAxis\",\"fUniqueID\":0,\"fBits\":50331656,\"fName\":\"yaxis\",\"fTitle\":\"Number of Clusters\",\"fNdivisions\":510,\"fAxisColor\":1,\"fLabelColor\":1,\"fLabelFont\":42,\"fLabelOffset\":0.005,\"fLabelSize\":0.035,\"fTickLength\":0.03,\"fTitleOffset\":0,\"fTitleSize\":0.035,\"fTitleColor\":1,\"fTitleFont\":42,\"fNbins\":1,\"fXmin\":0,\"fXmax\":1,\"fXbins\":[],\"fFirst\":0,\"fLast\":0,\"fBits2\":0,\"fTimeDisplay\":false,\"fTimeFormat\":\"\",\"fLabels\":null,\"fModLabs\":null},\"fZaxis\":{\"_typename\":\"TAxis\",\"fUniqueID\":0,\"fBits\":50331648,\"fName\":\"zaxis\",\"fTitle\":\"\",\"fNdivisions\":510,\"fAxisColor\":1,\"fLabelColor\":1,\"fLabelFont\":42,\"fLabelOffset\":0.005,\"fLabelSize\":0.035,\"fTickLength\":0.03,\"fTitleOffset\":1,\"fTitleSize\":0.035,\"fTitleColor\":1,\"fTitleFont\":42,\"fNbins\":1,\"fXmin\":0,\"fXmax\":1,\"fXbins\":[],\"fFirst\":0,\"fLast\":0,\"fBits2\":0,\"fTimeDisplay\":false,\"fTimeFormat\":\"\",\"fLabels\":null,\"fModLabs\":null},\"fBarOffset\":0,\"fBarWidth\":1000,\"fEntries\":2292,\"fTsumw\":1376,\"fTsumw2\":1376,\"fTsumwx\":2454625.66919041,\"fTsumwx2\":6977764776.55847,\"fMaximum\":-1111,\"fMinimum\":-1111,\"fNormFactor\":0,\"fContour\":[],\"fSumw2\":[0,0,0,0,0,0,0,0,0,0,2,6,16,52,102,120,92,74,48,32,36,28,10,6,4,4,10,4,10,6,12,4,10,6,8,10,6,4,0,4,0,10,8,30,24,42,42,40,46,62,46,48,28,40,28,20,28,30,12,6,6,6,8,0,2,2,6,2,2,6,0,2,2,0,2,6,0,2,2,2,2,916],\"fOption\":\"\",\"fFunctions\":{\"_typename\":\"TList\",\"name\":\"TList\",\"arr\":[{\"_typename\":\"TF1\",\"fUniqueID\":0,\"fBits\":50332680,\"fName\":\"myPolyaE\",\"fTitle\":\"[0]*ROOT::Math::negative_binomial_pdf(x,[1],[2])+[3]*exp(-x\\/[4])\",\"fLineColor\":922,\"fLineStyle\":1,\"fLineWidth\":2,\"fFillColor\":19,\"fFillStyle\":0,\"fMarkerColor\":1,\"fMarkerStyle\":1,\"fMarkerSize\":1,\"fXmin\":500,\"fXmax\":4400,\"fNpar\":5,\"fNdim\":1,\"fNpx\":100,\"fType\":0,\"fNpfits\":47,\"fNDF\":42,\"fChisquare\":117.857546641846,\"fMinimum\":-1111,\"fMaximum\":-1111,\"fParErrors\":[1930.91915075027,0.00155216769032456,4.83701600135143,124.583434023195,51.9746166858616],\"fParMin\":[0,0,0,0,0],\"fParMax\":[0,0,0,0,0],\"fSave\":[49.6546327149882,43.5989444240521,38.2817846182117,33.6130851999868,29.5137624311295,25.9143773223618,22.7539593968345,19.9789739028779,17.542414981519,15.4030094278086,13.524517558374,11.8751193425468,10.4268753988332,9.15525372707458,8.03871416139045,7.05834351010285,6.19753521583908,5.44170814256452,4.77805980076306,4.19534998862093,3.68371149741659,3.23448525729156,2.84007815010776,2.4938427574096,2.18997959829689,1.92346395831444,1.69000115416773,1.48601584456409,1.30868246772025,1.15600459889024,1.02695040439874,0.921648823133029,0.841646137057334,0.790214969929369,0.772697678553454,0.796854327821854,0.873173318108195,1.01509212796555,1.23906872304581,1.56444312548996,2.0130351867018,2.60843969819601,3.37500341453712,4.33649885070816,5.51454409111235,6.92685254416099,8.5854272853717,10.494837091172,12.650721888221,15.0386717778018,17.6336053266123,20.3997405397984,23.2912086486106,26.2533107481568,29.2243654474489,32.1380473086261,34.9260757838407,37.5210864611668,39.8595031162676,41.8842311845941,43.5470099639734,44.8102899741297,45.6485400572093,46.0489321459059,46.0113960086129,45.5480779095151,44.6822727978208,43.4469270803201,41.8828268681458,40.0365945654128,37.9586153044884,35.701005331648,33.3157187802309,30.8528693520262,28.359321328298,25.8775819545704,23.44500620202,21.0933064587305,18.8483446581304,16.7301731439459,14.7532832747035,12.927017126095,11.2560972428824,9.74123159612423,8.37975509210076,7.16627448180171,6.09328973677843,5.15177136126654,4.33167927771867,3.62241454325175,3.01320002258166,2.49339014120732,2.05271294939771,1.6814499706338,1.37056076591123,1.11175992710186,0.897554436740493,0.721249125421405,0.576927436477659,0.459413979303969,0.364224506950899,500,4400],\"fNormalized\":false,\"fNormIntegral\":0,\"fFormula\":{\"_typename\":\"TFormula\",\"fUniqueID\":0,\"fBits\":50332672,\"fName\":\"myPolyaE\",\"fTitle\":\"[0]*ROOT::Math::negative_binomial_pdf(x,[1],[2])+[3]*exp(-x\\/[4])\",\"fClingParameters\":[46394.8303897809,0.0184812168943907,56.9931378865168,263.094061489447,299.864475129784],\"fAllParametersSetted\":true,\"fParams\":[{\"$pair\":\"pair<TString,int,TFormulaParamOrder>\",\"first\":\"p0\",\"second\":0},{\"$pair\":\"pair<TString,int,TFormulaParamOrder>\",\"first\":\"p1\",\"second\":1},{\"$pair\":\"pair<TString,int,TFormulaParamOrder>\",\"first\":\"p2\",\"second\":2},{\"$pair\":\"pair<TString,int,TFormulaParamOrder>\",\"first\":\"p3\",\"second\":3},{\"$pair\":\"pair<TString,int,TFormulaParamOrder>\",\"first\":\"p4\",\"second\":4}],\"fFormula\":\"[p0]*ROOT::Math::negative_binomial_pdf(x,[p1],[p2])+[p3]*exp(-x\\/[p4])\",\"fNdim\":1,\"fLinearParts\":[],\"fVectorized\":false},\"fParams\":null,\"fComposition_ptr\":null}],\"opt\":[\"\"]},\"fBufferSize\":0,\"fBuffer\":[],\"fBinStatErrOpt\":0,\"fStatOverflows\":2,\"fArray\":[0,0,0,0,0,0,0,0,0,0,2,6,16,52,102,120,92,74,48,32,36,28,10,6,4,4,10,4,10,6,12,4,10,6,8,10,6,4,0,4,0,10,8,30,24,42,42,40,46,62,46,48,28,40,28,20,28,30,12,6,6,6,8,0,2,2,6,2,2,6,0,2,2,0,2,6,0,2,2,2,2,916]},{\"_typename\":\"TF1\",\"fUniqueID\":0,\"fBits\":50331656,\"fName\":\"myPolya\",\"fTitle\":\"[0]*ROOT::Math::negative_binomial_pdf(x,[1],[2])\",\"fLineColor\":1,\"fLineStyle\":1,\"fLineWidth\":2,\"fFillColor\":19,\"fFillStyle\":0,\"fMarkerColor\":1,\"fMarkerStyle\":1,\"fMarkerSize\":1,\"fXmin\":0,\"fXmax\":10000,\"fNpar\":3,\"fNdim\":1,\"fNpx\":100,\"fType\":0,\"fNpfits\":0,\"fNDF\":0,\"fChisquare\":0,\"fMinimum\":-1111,\"fMaximum\":-1111,\"fParErrors\":[0,0,0],\"fParMin\":[0,0,0],\"fParMax\":[0,0,0],\"fSave\":[],\"fNormalized\":false,\"fNormIntegral\":0,\"fFormula\":{\"_typename\":\"TFormula\",\"fUniqueID\":0,\"fBits\":50332672,\"fName\":\"myPolya\",\"fTitle\":\"[0]*ROOT::Math::negative_binomial_pdf(x,[1],[2])\",\"fClingParameters\":[46394.8303897809,0.0184812168943907,56.9931378865168],\"fAllParametersSetted\":true,\"fParams\":[{\"$pair\":\"pair<TString,int,TFormulaParamOrder>\",\"first\":\"p0\",\"second\":0},{\"$pair\":\"pair<TString,int,TFormulaParamOrder>\",\"first\":\"p1\",\"second\":1},{\"$pair\":\"pair<TString,int,TFormulaParamOrder>\",\"first\":\"p2\",\"second\":2}],\"fFormula\":\"[p0]*ROOT::Math::negative_binomial_pdf(x,[p1],[p2])\",\"fNdim\":1,\"fLinearParts\":[],\"fVectorized\":false},\"fParams\":null,\"fComposition_ptr\":null},{\"_typename\":\"TBox\",\"fUniqueID\":0,\"fBits\":50331656,\"fLineColor\":1,\"fLineStyle\":1,\"fLineWidth\":1,\"fFillColor\":19,\"fFillStyle\":0,\"fX1\":2800,\"fY1\":127.4,\"fX2\":4425,\"fY2\":160.4},{\"_typename\":\"TLatex\",\"fUniqueID\":0,\"fBits\":50331657,\"fName\":\"\",\"fTitle\":\"#bf{Mean                  3027}\",\"fTextAngle\":0,\"fTextSize\":0.04,\"fTextAlign\":13,\"fTextColor\":1,\"fTextFont\":62,\"fX\":2900,\"fY\":155.8,\"fLineColor\":1,\"fLineStyle\":1,\"fLineWidth\":2,\"fLimitFactorSize\":3,\"fOriginSize\":0.04},{\"_typename\":\"TLatex\",\"fUniqueID\":0,\"fBits\":50331657,\"fName\":\"\",\"fTitle\":\"#bf{Sigma                 405}\",\"fTextAngle\":0,\"fTextSize\":0.04,\"fTextAlign\":13,\"fTextColor\":1,\"fTextFont\":62,\"fX\":2900,\"fY\":146.8,\"fLineColor\":1,\"fLineStyle\":1,\"fLineWidth\":2,\"fLimitFactorSize\":3,\"fOriginSize\":0.04}],\"opt\":[\"\",\"hist\",\"same\",\"same\",\"\",\"\"]},\"fExecs\":null,\"fName\":\"\",\"fTitle\":\"\",\"fNumPaletteColor\":0,\"fNextPaletteColor\":0,\"fDISPLAY\":\"$DISPLAY\",\"fDoubleBuffer\":0,\"fRetained\":true,\"fXsizeUser\":0,\"fYsizeUser\":0,\"fXsizeReal\":20,\"fYsizeReal\":15,\"fWindowTopX\":0,\"fWindowTopY\":0,\"fWindowWidth\":0,\"fWindowHeight\":0,\"fCw\":796,\"fCh\":572,\"fCatt\":{\"_typename\":\"TAttCanvas\",\"fXBetween\":2,\"fYBetween\":2,\"fTitleFromTop\":1.2,\"fXdate\":0.2,\"fYdate\":0.3,\"fAdate\":1},\"kMoveOpaque\":true,\"kResizeOpaque\":true,\"fHighLightColor\":2,\"fBatch\":true,\"kShowEventStatus\":false,\"kAutoExec\":true,\"kMenuBar\":true});\n",
       "       Core.draw(\"root_plot_14\", obj, \"\");\n",
       "     }\n",
       " );\n",
       "</script>\n"
      ],
      "text/plain": [
       "<IPython.core.display.HTML object>"
      ]
     },
     "metadata": {},
     "output_type": "display_data"
    }
   ],
   "source": [
    "if (c):\n",
    "    c.Close()\n",
    "    ROOT.gSystem.ProcessEvents()\n",
    "    c = 0\n",
    "\n",
    "var = \"cl_integral\"\n",
    "hist1 = 'Integral'\n",
    "it=2\n",
    "\n",
    "ROOT.gStyle.SetOptStat(0)\n",
    "\n",
    "c = ROOT.TCanvas('','',800,600)\n",
    "\n",
    "#-------2D Method------#\n",
    "#it=1\n",
    "h = ROOT.TH1F('{hist1}'.format(hist1=hist1),'',3200,-800,5400)\n",
    "h.Sumw2()\n",
    "tree.Draw(\"{vr}*{fac}>>{hist1}\".format(fac=fac,vr=var,hist1=hist1),\"TMath::Hypot(cl_xmean-1024,(cl_ymean-1024)*1.2)<400 && cl_iteration==2 && cl_nhits>30\")\n",
    "h.SetMarkerStyle(20)\n",
    "h.SetMarkerSize(0.5)\n",
    "h.SetMarkerColor(colors[0])\n",
    "h.SetFillColor(ROOT.kGray)\n",
    "h.SetLineColor(ROOT.kGray+1)\n",
    "h.Rebin(10)\n",
    "h.Rebin(4)\n",
    "#h.SetFillStyle(3005)\n",
    "\n",
    "h.Draw('hist')\n",
    "ROOT.gPad.Update()\n",
    "\n",
    "#h.GetYaxis().SetRangeUser(0,y_lim[i])\n",
    "h.GetXaxis().SetRangeUser(0,4400)\n",
    "h.GetXaxis().SetTitle(\"Cluster Light [photons]\")\n",
    "h.GetYaxis().SetTitle(\"Number of Clusters\")\n",
    "\n",
    "## FIT Paramters and PLOT\n",
    "myPolya = ROOT.TF1(\"myPolya\",\"[0]*ROOT::Math::negative_binomial_pdf(x,[1],[2])\",0,10000);\n",
    "myExp = ROOT.TF1(\"myExp\",\"[0]*exp(-x/[1])\",400,10000);\n",
    "myPolyaE = ROOT.TF1(\"myPolyaE\",\"[0]*ROOT::Math::negative_binomial_pdf(x,[1],[2])+[3]*exp(-x/[4])\",0,10000);\n",
    "\n",
    "myPolyaE.SetParameters(10000,0.4,2400,1e2,1e3)\n",
    "myPolyaE.SetLineColor(ROOT.kGray+2)\n",
    "\n",
    "h.Fit(\"myPolyaE\",\"\",\"same\",500,4400)\n",
    "\n",
    "myPolya.SetParameters(myPolyaE.GetParameter(0),myPolyaE.GetParameter(1),myPolyaE.GetParameter(2))\n",
    "myPolya.SetLineColor(ROOT.kBlack)\n",
    "myPolya.Draw(\"same\")\n",
    "\n",
    "#-------Stat Box --------#\n",
    "dif = 0.28\n",
    "ypos = 0.35\n",
    "\n",
    "if stats:\n",
    "    rMean = ((1-myPolya.GetParameter(1))*myPolya.GetParameter(2))/myPolya.GetParameter(1)\n",
    "    rSigma = ROOT.TMath.Sqrt((((1-myPolya.GetParameter(1))*myPolya.GetParameter(2))/(myPolya.GetParameter(1)*myPolya.GetParameter(1))))\n",
    "    \n",
    "    box = ROOT.TBox(2800,2*63.7,4425,2*80.2);\n",
    "    box.SetFillStyle(0);\n",
    "    box.SetLineColor(1);\n",
    "    box.SetLineWidth(1);\n",
    "    box.Draw(\"same\");\n",
    "\n",
    "    latex = ROOT.TLatex()\n",
    "    latex.SetTextSize(0.04);\n",
    "    latex.SetTextAlign(13);\n",
    "\n",
    "    latex.DrawLatex(2900, 2*77.9,ROOT.Form(\"#bf{Mean                  %.0f}\" % rMean));\n",
    "    latex.DrawLatex(2900, 2*73.4,ROOT.Form(\"#bf{Sigma                 %.0f}\" % rSigma));\n",
    "\n",
    "\n",
    "if caption:\n",
    "    #-------Legend------#\n",
    "    difx = 0.245\n",
    "    xpos = 0.5\n",
    "    (x1,y1,x2,y2) = (xpos, .75, xpos+difx, .89)\n",
    "    leg = ROOT.TLegend(x1,y1,x2,y2)\n",
    "    leg.AddEntry(h,'{hist1}'.format(hist1=hist1),'f')\n",
    "    leg.Draw()\n",
    "if logx:\n",
    "    c.SetLogx()\n",
    "if logy:\n",
    "    c.SetLogy()\n",
    "    \n",
    "c.SetGrid()\n",
    "c.Draw()\n",
    "#c.Close()"
   ]
  },
  {
   "cell_type": "code",
   "execution_count": null,
   "metadata": {},
   "outputs": [],
   "source": [
    "latex.SetTextSize()"
   ]
  }
 ],
 "metadata": {
  "kernelspec": {
   "display_name": "Python 2",
   "language": "python",
   "name": "python2"
  },
  "language_info": {
   "codemirror_mode": {
    "name": "ipython",
    "version": 2
   },
   "file_extension": ".py",
   "mimetype": "text/x-python",
   "name": "python",
   "nbconvert_exporter": "python",
   "pygments_lexer": "ipython2",
   "version": "2.7.15+"
  }
 },
 "nbformat": 4,
 "nbformat_minor": 4
}
