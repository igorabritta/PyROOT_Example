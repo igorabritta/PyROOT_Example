{
 "cells": [
  {
   "cell_type": "markdown",
   "metadata": {},
   "source": [
    "## Loading ROOT libraries"
   ]
  },
  {
   "cell_type": "code",
   "execution_count": 1,
   "metadata": {},
   "outputs": [
    {
     "name": "stdout",
     "output_type": "stream",
     "text": [
      "Welcome to JupyROOT 6.18/00\n"
     ]
    }
   ],
   "source": [
    "from ROOT import TCanvas, TPad, TFile, TPaveLabel, TPaveText\n",
    "from ROOT import gROOT\n",
    "import root_numpy\n",
    "import ROOT\n",
    "import numpy as np\n",
    "import matplotlib.pyplot as plt\n",
    "from matplotlib.ticker import (LinearLocator, MultipleLocator, FormatStrFormatter,AutoMinorLocator)\n",
    "%jsroot on\n",
    "#ROOT.gStyle.SetOptStat(0)\n",
    "#ROOT.gStyle.SetOptStat(1111111)"
   ]
  },
  {
   "cell_type": "code",
   "execution_count": 2,
   "metadata": {},
   "outputs": [],
   "source": [
    "run = [2163]\n",
    "tip = \"3D\"\n",
    "\n",
    "filename = \"../reco_files/6040/new_reco_run%05d_%s.root\" % (run[0],tip)\n",
    "tf = ROOT.TFile(filename)\n",
    "tree = tf.Get('Events')"
   ]
  },
  {
   "cell_type": "code",
   "execution_count": 5,
   "metadata": {},
   "outputs": [],
   "source": [
    "## Plot parameters\n",
    "caption = 0\n",
    "logy = 0\n",
    "logx = 0\n",
    "stats = 1\n",
    "colors = [ROOT.kGray+1]\n",
    "fac=1\n",
    "c=0"
   ]
  },
  {
   "cell_type": "code",
   "execution_count": 6,
   "metadata": {
    "scrolled": false
   },
   "outputs": [
    {
     "name": "stdout",
     "output_type": "stream",
     "text": [
      " FCN=117.858 FROM MIGRAD    STATUS=CONVERGED    1294 CALLS        1295 TOTAL\n",
      "                     EDM=1.44034e-06    STRATEGY= 1      ERROR MATRIX ACCURATE \n",
      "  EXT PARAMETER                                   STEP         FIRST   \n",
      "  NO.   NAME      VALUE            ERROR          SIZE      DERIVATIVE \n",
      "   1  p0           4.63943e+04   1.93090e+03   9.69414e+00  -1.64399e-07\n",
      "   2  p1           1.84809e-02   1.55066e-03   5.64126e-07  -2.69227e+00\n",
      "   3  p2           5.69921e+01   4.83230e+00   1.75714e-03   5.87326e-04\n",
      "   4  p3           2.63069e+02   1.24578e+02   1.04113e-01  -2.30123e-05\n",
      "   5  p4           2.99875e+02   5.19800e+01   4.37156e-02  -3.54189e-05\n"
     ]
    },
    {
     "name": "stderr",
     "output_type": "stream",
     "text": [
      "Warning in <TFile::Append>: Replacing existing TH1: Integral (Potential memory leak).\n"
     ]
    },
    {
     "data": {
      "text/html": [
       "\n",
       "<div id=\"root_plot_1\"\n",
       "     style=\"width: 796px; height: 572px\">\n",
       "</div>\n",
       "\n",
       "<script>\n",
       " requirejs.config({\n",
       "     paths: {\n",
       "       'JSRootCore' : 'https://root.cern.ch/js/notebook//scripts/JSRootCore',\n",
       "     }\n",
       "   });\n",
       " require(['JSRootCore'],\n",
       "     function(Core) {\n",
       "       var obj = Core.JSONR_unref({\"_typename\":\"TCanvas\",\"fUniqueID\":0,\"fBits\":53673992,\"fLineColor\":1,\"fLineStyle\":1,\"fLineWidth\":1,\"fFillColor\":0,\"fFillStyle\":1001,\"fLeftMargin\":0.1,\"fRightMargin\":0.1,\"fBottomMargin\":0.1,\"fTopMargin\":0.1,\"fXfile\":2,\"fYfile\":2,\"fAfile\":1,\"fXstat\":0.99,\"fYstat\":0.99,\"fAstat\":2,\"fFrameFillColor\":0,\"fFrameLineColor\":1,\"fFrameFillStyle\":1001,\"fFrameLineStyle\":1,\"fFrameLineWidth\":1,\"fFrameBorderSize\":1,\"fFrameBorderMode\":0,\"fX1\":-586.875041862952,\"fY1\":-20.5000015273691,\"fX2\":5031.87504186295,\"fY2\":184.500001527369,\"fXtoAbsPixelk\":83.1417677062148,\"fXtoPixelk\":83.1417677062148,\"fXtoPixel\":0.141668518467395,\"fYtoAbsPixelk\":514.800046590614,\"fYtoPixelk\":514.800046590614,\"fYtoPixel\":-2.79024386086115,\"fUtoAbsPixelk\":5e-5,\"fUtoPixelk\":5e-5,\"fUtoPixel\":796,\"fVtoAbsPixelk\":572.00005,\"fVtoPixelk\":572,\"fVtoPixel\":-572,\"fAbsPixeltoXk\":-586.875041862952,\"fPixeltoXk\":-586.875041862952,\"fPixeltoX\":7.05873126096219,\"fAbsPixeltoYk\":184.500001527369,\"fPixeltoYk\":-20.5000015273691,\"fPixeltoY\":-0.35839161373206,\"fXlowNDC\":0,\"fYlowNDC\":0,\"fXUpNDC\":0,\"fYUpNDC\":0,\"fWNDC\":1,\"fHNDC\":1,\"fAbsXlowNDC\":0,\"fAbsYlowNDC\":0,\"fAbsWNDC\":1,\"fAbsHNDC\":1,\"fUxmin\":-25,\"fUymin\":0,\"fUxmax\":4470,\"fUymax\":164,\"fTheta\":30,\"fPhi\":30,\"fAspectRatio\":0,\"fNumber\":0,\"fTickx\":0,\"fTicky\":0,\"fLogx\":0,\"fLogy\":0,\"fLogz\":0,\"fPadPaint\":0,\"fCrosshair\":0,\"fCrosshairPos\":0,\"fBorderSize\":2,\"fBorderMode\":0,\"fModified\":false,\"fGridx\":true,\"fGridy\":true,\"fAbsCoord\":false,\"fEditable\":true,\"fFixedAspectRatio\":false,\"fPrimitives\":{\"_typename\":\"TList\",\"name\":\"TList\",\"arr\":[{\"_typename\":\"TFrame\",\"fUniqueID\":0,\"fBits\":50331656,\"fLineColor\":1,\"fLineStyle\":1,\"fLineWidth\":1,\"fFillColor\":0,\"fFillStyle\":1001,\"fX1\":-25,\"fY1\":0,\"fX2\":4470,\"fY2\":164,\"fBorderSize\":1,\"fBorderMode\":0},{\"_typename\":\"TH1F\",\"fUniqueID\":0,\"fBits\":50332168,\"fName\":\"Integral\",\"fTitle\":\"\",\"fLineColor\":921,\"fLineStyle\":1,\"fLineWidth\":1,\"fFillColor\":920,\"fFillStyle\":1001,\"fMarkerColor\":921,\"fMarkerStyle\":20,\"fMarkerSize\":0.5,\"fNcells\":82,\"fXaxis\":{\"_typename\":\"TAxis\",\"fUniqueID\":0,\"fBits\":50333704,\"fName\":\"xaxis\",\"fTitle\":\"Cluster Light [ph]\",\"fNdivisions\":510,\"fAxisColor\":1,\"fLabelColor\":1,\"fLabelFont\":42,\"fLabelOffset\":0.005,\"fLabelSize\":0.035,\"fTickLength\":0.03,\"fTitleOffset\":1,\"fTitleSize\":0.035,\"fTitleColor\":1,\"fTitleFont\":42,\"fNbins\":80,\"fXmin\":-800,\"fXmax\":5400,\"fXbins\":[],\"fFirst\":11,\"fLast\":68,\"fBits2\":0,\"fTimeDisplay\":false,\"fTimeFormat\":\"\",\"fLabels\":null,\"fModLabs\":null},\"fYaxis\":{\"_typename\":\"TAxis\",\"fUniqueID\":0,\"fBits\":50331656,\"fName\":\"yaxis\",\"fTitle\":\"Number of Clusters\",\"fNdivisions\":510,\"fAxisColor\":1,\"fLabelColor\":1,\"fLabelFont\":42,\"fLabelOffset\":0.005,\"fLabelSize\":0.035,\"fTickLength\":0.03,\"fTitleOffset\":0,\"fTitleSize\":0.035,\"fTitleColor\":1,\"fTitleFont\":42,\"fNbins\":1,\"fXmin\":0,\"fXmax\":1,\"fXbins\":[],\"fFirst\":0,\"fLast\":0,\"fBits2\":0,\"fTimeDisplay\":false,\"fTimeFormat\":\"\",\"fLabels\":null,\"fModLabs\":null},\"fZaxis\":{\"_typename\":\"TAxis\",\"fUniqueID\":0,\"fBits\":50331648,\"fName\":\"zaxis\",\"fTitle\":\"\",\"fNdivisions\":510,\"fAxisColor\":1,\"fLabelColor\":1,\"fLabelFont\":42,\"fLabelOffset\":0.005,\"fLabelSize\":0.035,\"fTickLength\":0.03,\"fTitleOffset\":1,\"fTitleSize\":0.035,\"fTitleColor\":1,\"fTitleFont\":42,\"fNbins\":1,\"fXmin\":0,\"fXmax\":1,\"fXbins\":[],\"fFirst\":0,\"fLast\":0,\"fBits2\":0,\"fTimeDisplay\":false,\"fTimeFormat\":\"\",\"fLabels\":null,\"fModLabs\":null},\"fBarOffset\":0,\"fBarWidth\":1000,\"fEntries\":2292,\"fTsumw\":1376,\"fTsumw2\":1376,\"fTsumwx\":2454625.66919041,\"fTsumwx2\":6977764776.55847,\"fMaximum\":164,\"fMinimum\":0,\"fNormFactor\":0,\"fContour\":[],\"fSumw2\":[],\"fOption\":\"\",\"fFunctions\":{\"_typename\":\"TList\",\"name\":\"TList\",\"arr\":[{\"_typename\":\"TF1\",\"fUniqueID\":0,\"fBits\":50332680,\"fName\":\"myPolyaE\",\"fTitle\":\"[0]*ROOT::Math::negative_binomial_pdf(x,[1],[2])+[3]*exp(-x\\/[4])\",\"fLineColor\":922,\"fLineStyle\":1,\"fLineWidth\":2,\"fFillColor\":19,\"fFillStyle\":0,\"fMarkerColor\":1,\"fMarkerStyle\":1,\"fMarkerSize\":1,\"fXmin\":500,\"fXmax\":4400,\"fNpar\":5,\"fNdim\":1,\"fNpx\":100,\"fType\":0,\"fNpfits\":47,\"fNDF\":42,\"fChisquare\":117.8575469989,\"fMinimum\":-1111,\"fMaximum\":-1111,\"fParErrors\":[1930.89637036341,0.00155066373413848,4.83230017946401,124.577875639506,51.9800192531257],\"fParMin\":[0,0,0,0,0],\"fParMax\":[0,0,0,0,0],\"fSave\":[49.652846352928,43.5975727153399,38.2807529936752,33.6123311114329,29.5132335283808,25.9140298961433,22.7537570497804,19.978886416176,17.5424173492414,15.4030810348844,13.5246414815319,11.875281756458,10.4270650721948,9.15546159552721,8.03893296602595,7.05856749191931,6.1977598578805,5.44192995267702,4.77827612893531,4.19555887378582,3.6839115394022,3.23467551035139,2.84025803515884,2.49401199078124,2.19013813544746,1.92361195159003,1.69013892420577,1.48614386530269,1.30880136504528,1.15611516260797,1.02705361234949,0.921745874802617,0.841738492045531,0.790304384275247,0.772786229537873,0.7969444159305,0.873267633919642,1.0151935723278,1.23918027149926,1.5645676325818,2.0131751325271,2.60859688753061,3.37517864759838,4.33669159233233,5.51475217133024,6.92707192586632,8.58565193380161,10.4950589747395,12.6509311304055,15.0388569673375,17.6337539789054,20.3998396862489,23.2912455181446,26.2532734940462,29.2242438654088,32.1378334924242,34.9257646697841,37.5206762148226,39.8589953392568,41.8836309200437,43.5463255095131,44.8095325120317,45.6477231370614,46.0480710562802,46.0105070814482,45.5471778057461,44.681377819343,43.4460525440815,41.8819865766266,40.0358003933942,37.957876915523,35.7003300235829,33.3151114571156,30.8523326056541,28.3588556132611,25.8771858337954,23.4446766418263,21.0930391496287,18.8481343429283,16.7300139343392,14.7531689439052,12.9269413672406,11.2560538861152,9.74121478281848,8.37975940500994,7.16629503363793,6.09332222201446,5.15181207510654,4.33172510889417,3.6224629461276,3.01324897404195,2.49343808769934,2.05275874854466,1.68149283105904,1.37060018822018,1.11179564830084,0.89758637946243,0.721277352973238,0.576952114043032,0.459435341367661,0.364242830676694,500,4400],\"fNormalized\":false,\"fNormIntegral\":0,\"fFormula\":{\"_typename\":\"TFormula\",\"fUniqueID\":0,\"fBits\":50332672,\"fName\":\"myPolyaE\",\"fTitle\":\"[0]*ROOT::Math::negative_binomial_pdf(x,[1],[2])+[3]*exp(-x\\/[4])\",\"fClingParameters\":[46394.3484917843,0.0184808814670671,56.9920538048022,263.069372020447,299.874882819061],\"fAllParametersSetted\":true,\"fParams\":[{\"$pair\":\"pair<TString,int,TFormulaParamOrder>\",\"first\":\"p0\",\"second\":0},{\"$pair\":\"pair<TString,int,TFormulaParamOrder>\",\"first\":\"p1\",\"second\":1},{\"$pair\":\"pair<TString,int,TFormulaParamOrder>\",\"first\":\"p2\",\"second\":2},{\"$pair\":\"pair<TString,int,TFormulaParamOrder>\",\"first\":\"p3\",\"second\":3},{\"$pair\":\"pair<TString,int,TFormulaParamOrder>\",\"first\":\"p4\",\"second\":4}],\"fFormula\":\"[p0]*ROOT::Math::negative_binomial_pdf(x,[p1],[p2])+[p3]*exp(-x\\/[p4])\",\"fNdim\":1,\"fLinearParts\":[],\"fVectorized\":false},\"fParams\":null,\"fComposition_ptr\":null}],\"opt\":[\"\"]},\"fBufferSize\":0,\"fBuffer\":[],\"fBinStatErrOpt\":0,\"fStatOverflows\":2,\"fArray\":[0,0,0,0,0,0,0,0,0,0,2,6,16,52,102,120,92,74,48,32,36,28,10,6,4,4,10,4,10,6,12,4,10,6,8,10,6,4,0,4,0,10,8,30,24,42,42,40,46,62,46,48,28,40,28,20,28,30,12,6,6,6,8,0,2,2,6,2,2,6,0,2,2,0,2,6,0,2,2,2,2,916]},{\"_typename\":\"TBox\",\"fUniqueID\":0,\"fBits\":50331656,\"fLineColor\":1,\"fLineStyle\":1,\"fLineWidth\":1,\"fFillColor\":19,\"fFillStyle\":0,\"fX1\":2800,\"fY1\":139.4,\"fX2\":4425,\"fY2\":160.4},{\"_typename\":\"TText\",\"fUniqueID\":0,\"fBits\":50331657,\"fName\":\"\",\"fTitle\":\"Mean 3027\",\"fTextAngle\":0,\"fTextSize\":0.04,\"fTextAlign\":12,\"fTextColor\":1,\"fTextFont\":82,\"fX\":2900,\"fY\":155.8},{\"_typename\":\"TText\",\"fUniqueID\":0,\"fBits\":50331657,\"fName\":\"\",\"fTitle\":\"Sigma 405\",\"fTextAngle\":0,\"fTextSize\":0.04,\"fTextAlign\":12,\"fTextColor\":1,\"fTextFont\":82,\"fX\":2900,\"fY\":146.8}],\"opt\":[\"\",\"hist\",\"same\",\"\",\"\"]},\"fExecs\":null,\"fName\":\"\",\"fTitle\":\"\",\"fNumPaletteColor\":0,\"fNextPaletteColor\":0,\"fDISPLAY\":\"$DISPLAY\",\"fDoubleBuffer\":0,\"fRetained\":true,\"fXsizeUser\":0,\"fYsizeUser\":0,\"fXsizeReal\":20,\"fYsizeReal\":15,\"fWindowTopX\":0,\"fWindowTopY\":0,\"fWindowWidth\":0,\"fWindowHeight\":0,\"fCw\":796,\"fCh\":572,\"fCatt\":{\"_typename\":\"TAttCanvas\",\"fXBetween\":2,\"fYBetween\":2,\"fTitleFromTop\":1.2,\"fXdate\":0.2,\"fYdate\":0.3,\"fAdate\":1},\"kMoveOpaque\":true,\"kResizeOpaque\":true,\"fHighLightColor\":2,\"fBatch\":true,\"kShowEventStatus\":false,\"kAutoExec\":true,\"kMenuBar\":true});\n",
       "       Core.draw(\"root_plot_1\", obj, \"\");\n",
       "     }\n",
       " );\n",
       "</script>\n"
      ],
      "text/plain": [
       "<IPython.core.display.HTML object>"
      ]
     },
     "metadata": {},
     "output_type": "display_data"
    }
   ],
   "source": [
    "if (c):\n",
    "    c.Close()\n",
    "    ROOT.gSystem.ProcessEvents()\n",
    "    c = 0\n",
    "\n",
    "var = \"cl_integral\"\n",
    "hist1 = 'Integral'\n",
    "it=2\n",
    "\n",
    "ROOT.gStyle.SetOptStat(0)\n",
    "\n",
    "c = ROOT.TCanvas('','',800,600)\n",
    "\n",
    "#-------2D Method------#\n",
    "#it=1\n",
    "h = ROOT.TH1F('{hist1}'.format(hist1=hist1),'',3200,-800,5400)\n",
    "#h.Sumw2()\n",
    "tree.Draw(\"{vr}*{fac}>>{hist1}\".format(fac=fac,vr=var,hist1=hist1),\"TMath::Hypot(cl_xmean-1024,(cl_ymean-1024)*1.2)<400 && cl_iteration==2 && cl_nhits>30\")\n",
    "h.SetMarkerStyle(20)\n",
    "h.SetMarkerSize(0.5)\n",
    "h.SetMarkerColor(colors[0])\n",
    "h.SetFillColor(ROOT.kGray)\n",
    "h.SetLineColor(ROOT.kGray+1)\n",
    "h.Rebin(10)\n",
    "h.Rebin(4)\n",
    "#h.SetFillStyle(3005)\n",
    "\n",
    "h.Draw(\"hist\")\n",
    "ROOT.gPad.Update()\n",
    "\n",
    "h.GetYaxis().SetRangeUser(0,82*2)\n",
    "h.GetXaxis().SetRangeUser(0,4400)\n",
    "h.GetXaxis().SetTitle(\"Cluster Light [ph]\")\n",
    "h.GetYaxis().SetTitle(\"Number of Clusters\")\n",
    "\n",
    "## FIT Paramters and PLOT\n",
    "myPolya = ROOT.TF1(\"myPolya\",\"[0]*ROOT::Math::negative_binomial_pdf(x,[1],[2])\",0,10000);\n",
    "myExp = ROOT.TF1(\"myExp\",\"[0]*exp(-x/[1])\",400,10000);\n",
    "myPolyaE = ROOT.TF1(\"myPolyaE\",\"[0]*ROOT::Math::negative_binomial_pdf(x,[1],[2])+[3]*exp(-x/[4])\",0,10000);\n",
    "\n",
    "myPolyaE.SetParameters(10000,0.4,2400,1e2,1e3)\n",
    "myPolyaE.SetLineColor(ROOT.kGray+2)\n",
    "\n",
    "h.Fit(\"myPolyaE\",\"\",\"same\",500,4400)\n",
    "\n",
    "myPolya.SetParameters(myPolyaE.GetParameter(0),myPolyaE.GetParameter(1),myPolyaE.GetParameter(2))\n",
    "myPolya.SetLineColor(ROOT.kRed)\n",
    "#myPolya.Draw(\"same\")\n",
    "#-------Stat Box --------#\n",
    "dif = 0.28\n",
    "ypos = 0.35\n",
    "\n",
    "if stats:\n",
    "    rMean = ((1-myPolya.GetParameter(1))*myPolya.GetParameter(2))/myPolya.GetParameter(1)\n",
    "    rSigma = ROOT.TMath.Sqrt((((1-myPolya.GetParameter(1))*myPolya.GetParameter(2))/(myPolya.GetParameter(1)*myPolya.GetParameter(1))))\n",
    "    \n",
    "    box = ROOT.TBox(2800,2*69.7,4425,2*80.2);\n",
    "    box.SetFillStyle(0);\n",
    "    box.SetLineColor(1);\n",
    "    box.SetLineWidth(1);\n",
    "    box.Draw(\"same\");\n",
    "\n",
    "    t = ROOT.TText();\n",
    "    t.SetTextFont(82)\n",
    "    t.SetTextSize(0.04)\n",
    "    t.SetTextAlign(12);\n",
    "    t.DrawText(2900,2*77.9,'Mean %.0f' % rMean)\n",
    "    t.DrawText(2900,2*73.4,\"Sigma %.0f\" % rSigma)\n",
    "\n",
    "if caption:\n",
    "    #-------Legend------#\n",
    "    difx = 0.245\n",
    "    xpos = 0.5\n",
    "    (x1,y1,x2,y2) = (xpos, .75, xpos+difx, .89)\n",
    "    leg = ROOT.TLegend(x1,y1,x2,y2)\n",
    "    leg.AddEntry(h,'{hist1}'.format(hist1=hist1),'f')\n",
    "    leg.Draw()\n",
    "if logx:\n",
    "    c.SetLogx()\n",
    "if logy:\n",
    "    c.SetLogy()\n",
    "    \n",
    "c.SetGrid()\n",
    "c.Draw()\n",
    "c.Modified()\n",
    "c.Update()\n",
    "\n",
    "#c.Close()"
   ]
  },
  {
   "cell_type": "code",
   "execution_count": null,
   "metadata": {},
   "outputs": [],
   "source": []
  }
 ],
 "metadata": {
  "kernelspec": {
   "display_name": "Python 2",
   "language": "python",
   "name": "python2"
  },
  "language_info": {
   "codemirror_mode": {
    "name": "ipython",
    "version": 2
   },
   "file_extension": ".py",
   "mimetype": "text/x-python",
   "name": "python",
   "nbconvert_exporter": "python",
   "pygments_lexer": "ipython2",
   "version": "2.7.15+"
  }
 },
 "nbformat": 4,
 "nbformat_minor": 4
}
